# Import libraries
import pandas as pd
import matplotlib.pyplot as plt
import seaborn as sns

# Load data
df = pd.read_csv('data/co2_emissions.csv')
df.head()

# Check basic info
print(df.info())
print(df.describe())

# Total emissions by year
total_by_year = df.groupby('year')['co2'].sum()
plt.figure(figsize=(10,6))
sns.lineplot(x=total_by_year.index, y=total_by_year.values)
plt.title('Total Global CO2 Emissions Over Time')
plt.ylabel('CO2 Emissions (million tonnes)')
plt.xlabel('Year')
plt.show()

# Top countries
latest_year = df['year'].max()
top_countries = df[df['year'] == latest_year].groupby('country')['co2'].sum().sort_values(ascending=False).head(10)
plt.figure(figsize=(10,6))
sns.barplot(x=top_countries.values, y=top_countries.index, palette='viridis')
plt.title(f'Top 10 CO2 Emitting Countries in {latest_year}')
plt.xlabel('CO2 Emissions (million tonnes)')
plt.ylabel('Country')
plt.show()

